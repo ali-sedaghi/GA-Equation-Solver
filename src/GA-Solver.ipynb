{
 "cells": [
  {
   "cell_type": "markdown",
   "source": [
    "## Imports"
   ],
   "metadata": {
    "collapsed": false,
    "pycharm": {
     "name": "#%% md\n"
    }
   }
  },
  {
   "cell_type": "code",
   "execution_count": 1,
   "metadata": {
    "collapsed": true,
    "pycharm": {
     "name": "#%%\n"
    }
   },
   "outputs": [],
   "source": [
    "import random\n",
    "import numpy\n",
    "import matplotlib.pyplot as plt"
   ]
  },
  {
   "cell_type": "markdown",
   "source": [
    "## Gray code encoding"
   ],
   "metadata": {
    "collapsed": false,
    "pycharm": {
     "name": "#%% md\n"
    }
   }
  },
  {
   "cell_type": "code",
   "execution_count": 2,
   "outputs": [],
   "source": [
    "def digit_to_gray(x):\n",
    "  if x == '0':\n",
    "    return [0, 0, 0, 0]\n",
    "  elif x == '1':\n",
    "    return [0, 0, 0, 1]\n",
    "  elif x == '2':\n",
    "    return [0, 0, 1, 1]\n",
    "  elif x == '3':\n",
    "    return [0, 0, 1, 0]\n",
    "  elif x == '4':\n",
    "    return [0, 1, 1, 0]\n",
    "  elif x == '5':\n",
    "    return [0, 1, 1, 1]\n",
    "  elif x == '6':\n",
    "    return [0, 1, 0, 1]\n",
    "  elif x == '7':\n",
    "    return [0, 1, 0, 0]\n",
    "  elif x == '8':\n",
    "    return [1, 1, 0, 0]\n",
    "  elif x == '9':\n",
    "    return [1, 1, 0, 1]\n",
    "\n",
    "\n",
    "def to_gray(x):\n",
    "  result = []\n",
    "\n",
    "  if x >= 0:\n",
    "    result.append(0)\n",
    "  else:\n",
    "    result.append(1)\n",
    "\n",
    "  x_str = str(abs(x))\n",
    "  splitted = x_str.split('.')\n",
    "  LHS = splitted[0]\n",
    "  RHS = splitted[1]\n",
    "\n",
    "  result.extend(digit_to_gray(LHS))\n",
    "  result.extend(digit_to_gray(RHS))\n",
    "\n",
    "  return result\n",
    "\n",
    "\n",
    "def gray_to_digit(x):\n",
    "  string = ''.join([str(bit) for bit in x])\n",
    "\n",
    "  if string == '0000':\n",
    "    return 0\n",
    "  elif string == '0001':\n",
    "    return 1\n",
    "  elif string == '0011':\n",
    "    return 2\n",
    "  elif string == '0010':\n",
    "    return 3\n",
    "  elif string == '0110':\n",
    "    return 4\n",
    "  elif string == '0111':\n",
    "    return 5\n",
    "  elif string == '0101':\n",
    "    return 6\n",
    "  elif string == '0100':\n",
    "    return 7\n",
    "  elif string == '1100':\n",
    "    return 8\n",
    "  elif string == '1101':\n",
    "    return 9\n",
    "  return 0\n",
    "\n",
    "\n",
    "def to_float(chromosome):\n",
    "  sign = chromosome[0]\n",
    "  LHS = chromosome[1:5]\n",
    "  RHS = chromosome[5:9]\n",
    "\n",
    "  string = ''\n",
    "\n",
    "  if sign == 1:\n",
    "    string += '-'\n",
    "\n",
    "  string += str(gray_to_digit(LHS))\n",
    "  string += '.'\n",
    "  string += str(gray_to_digit(RHS))\n",
    "\n",
    "  return round(float(string), 1)"
   ],
   "metadata": {
    "collapsed": false,
    "pycharm": {
     "name": "#%%\n"
    }
   }
  },
  {
   "cell_type": "markdown",
   "source": [
    "## Genetic Algorithm Class"
   ],
   "metadata": {
    "collapsed": false,
    "pycharm": {
     "name": "#%% md\n"
    }
   }
  },
  {
   "cell_type": "code",
   "execution_count": 3,
   "outputs": [],
   "source": [
    "class GeneticEquationSolver:\n",
    "  def __init__(self, generations, population_size,\n",
    "               elitist_rate, mutation_rate):\n",
    "    self.population = []\n",
    "    self.population_size = population_size\n",
    "    self.elitist_rate = elitist_rate\n",
    "    self.generations = generations\n",
    "    self.mutation_rate = mutation_rate\n",
    "    self.func = None\n",
    "    self.min_root = None\n",
    "    self.max_root = None\n",
    "    self.chromosome_length = None\n",
    "\n",
    "  def set_function(self, func, min_root, max_root, chromosome_length):\n",
    "    self.func = func\n",
    "    self.min_root = min_root\n",
    "    self.max_root = max_root\n",
    "    self.chromosome_length = chromosome_length\n",
    "\n",
    "  @staticmethod\n",
    "  def create_chromosome():\n",
    "    x = random.uniform(-9.0, 9.0)\n",
    "    x = round(x, 1)\n",
    "    return to_gray(x)\n",
    "\n",
    "  def create_population(self):\n",
    "    for _ in range(self.population_size):\n",
    "      chromosome = self.create_chromosome()\n",
    "      self.population.append(chromosome)\n",
    "\n",
    "  def fitness(self, chromosome):\n",
    "    x = to_float(chromosome)\n",
    "    fx = self.func(x)\n",
    "    return 1 / (1 + abs(fx))\n",
    "\n",
    "  def ranked_population(self):\n",
    "    return sorted(self.population,\n",
    "                  key=lambda x: self.fitness(x),\n",
    "                  reverse=True)\n",
    "\n",
    "  def create_pool(self, ranked_pop):\n",
    "    pool = []\n",
    "    pop_size = len(ranked_pop)\n",
    "    elitist_size = int (pop_size * self.elitist_rate)\n",
    "    remain_size = pop_size - elitist_size\n",
    "\n",
    "    for i in range(elitist_size):\n",
    "      pool.append(ranked_pop[i])\n",
    "\n",
    "    fits = [self.fitness(e) for e in ranked_pop]\n",
    "    sum_fits = sum(fits)\n",
    "    norm_fits = [e / sum_fits for e in fits]\n",
    "\n",
    "    for i in range(remain_size):\n",
    "      pick = random.random()\n",
    "      for j in range(pop_size):\n",
    "        if pick >= norm_fits[j]:\n",
    "          pool.append(ranked_pop[j])\n",
    "          break\n",
    "      if pick < norm_fits[pop_size - 1]:\n",
    "        pool.append(ranked_pop[pop_size - 1])\n",
    "\n",
    "    return pool\n",
    "\n",
    "  @staticmethod\n",
    "  def crossover(parent1, parent2):\n",
    "    size = len(parent1)\n",
    "    child_part1 = []\n",
    "    child_part2 = []\n",
    "    cross_point = int(random.random() * size)\n",
    "    for i in range(0, cross_point):\n",
    "      child_part1.append(parent1[i])\n",
    "    for i in range(cross_point, size):\n",
    "      child_part2.append(parent2[i])\n",
    "    child = child_part1 + child_part2\n",
    "    return child\n",
    "\n",
    "  def mutate(self, chromosome):\n",
    "    size = len(chromosome)\n",
    "    new = chromosome\n",
    "    for i in range(size):\n",
    "      if random.random() < self.mutation_rate:\n",
    "        new[i] = 1 - chromosome[i]\n",
    "    return new\n",
    "\n",
    "  def crossover_pool(self, pool):\n",
    "    new_pop = []\n",
    "    pop_size = len(pool)\n",
    "    elitist_size = int (pop_size * self.elitist_rate)\n",
    "    remain_size = pop_size - elitist_size\n",
    "\n",
    "    for i in range(elitist_size):\n",
    "      new_pop.append(pool[i])\n",
    "\n",
    "    for i in range(remain_size):\n",
    "      parent1 = random.choice(pool)\n",
    "      parent2 = random.choice(pool)\n",
    "      child = self.crossover(parent1, parent2)\n",
    "      new_pop.append(child)\n",
    "\n",
    "    return new_pop\n",
    "\n",
    "  def mutate_pool(self, pool):\n",
    "    new_pop = []\n",
    "    for i in range(len(pool)):\n",
    "      mutated = self.mutate(pool[i])\n",
    "      new_pop.append(mutated)\n",
    "    return new_pop\n",
    "\n",
    "  def set_population(self, new_pop):\n",
    "    self.population = new_pop\n",
    "\n",
    "  def next_generation(self):\n",
    "    ranked_pop = self.ranked_population()\n",
    "    pool = self.create_pool(ranked_pop)\n",
    "    crossovered_pool = self.crossover_pool(pool)\n",
    "    mutated_pool = self.mutate_pool(crossovered_pool)\n",
    "    self.set_population(mutated_pool)\n",
    "\n",
    "    # returned before new generation\n",
    "    best_chromosome = ranked_pop[0]\n",
    "    avg_fitness = sum([self.fitness(e) for e in ranked_pop]) / len(ranked_pop)\n",
    "    return best_chromosome, avg_fitness\n",
    "\n",
    "  def run(self):\n",
    "    self.create_population()\n",
    "    best_chromosomes = []\n",
    "    avg_fitness = []\n",
    "    for i in range(self.generations):\n",
    "      best, avg = self.next_generation()\n",
    "      best_chromosomes.append(best)\n",
    "      avg_fitness.append(avg)\n",
    "      self.print_log(i, avg, best, to_float(best), self.fitness(best))\n",
    "\n",
    "    ranked_pop = self.ranked_population()\n",
    "    best = ranked_pop[0]\n",
    "    avg = sum([self.fitness(e) for e in ranked_pop]) / len(ranked_pop)\n",
    "    best_chromosomes.append(best)\n",
    "    avg_fitness.append(avg)\n",
    "    self.print_log(self.generations, avg, best, to_float(best), self.fitness(best))\n",
    "\n",
    "    return best_chromosomes, avg_fitness\n",
    "\n",
    "  @staticmethod\n",
    "  def print_log(i, avg, best, best_root, best_fit):\n",
    "    print('Generation:', i)\n",
    "    print('Average Fitness:', avg)\n",
    "    print('Best Chromosomes:', best)\n",
    "    print('Best Root:', best_root)\n",
    "    print('Fitness:', best_fit)\n",
    "    print('----------------')"
   ],
   "metadata": {
    "collapsed": false,
    "pycharm": {
     "name": "#%%\n"
    }
   }
  },
  {
   "cell_type": "markdown",
   "source": [
    "## Hyperparams"
   ],
   "metadata": {
    "collapsed": false,
    "pycharm": {
     "name": "#%% md\n"
    }
   }
  },
  {
   "cell_type": "code",
   "execution_count": 4,
   "outputs": [],
   "source": [
    "POPULATION_SIZE = 100\n",
    "ELITIST_RATE = 0.2\n",
    "GENERATIONS = 10\n",
    "MUTATION_RATE = 0.1"
   ],
   "metadata": {
    "collapsed": false,
    "pycharm": {
     "name": "#%%\n"
    }
   }
  },
  {
   "cell_type": "markdown",
   "source": [
    "## Init GA Equation Solver"
   ],
   "metadata": {
    "collapsed": false,
    "pycharm": {
     "name": "#%% md\n"
    }
   }
  },
  {
   "cell_type": "code",
   "execution_count": 5,
   "outputs": [],
   "source": [
    "model = GeneticEquationSolver(GENERATIONS, POPULATION_SIZE, ELITIST_RATE, MUTATION_RATE)\n",
    "\n",
    "func = lambda x: 9 * x ** 5 - 194.7 * x ** 4 + 1680.1 * x ** 3 - 7227.94 * x ** 2 + 15501.2 * x - 13257.2\n",
    "model.set_function(func, -9, 9, 9)"
   ],
   "metadata": {
    "collapsed": false,
    "pycharm": {
     "name": "#%%\n"
    }
   }
  },
  {
   "cell_type": "markdown",
   "source": [
    "## Train"
   ],
   "metadata": {
    "collapsed": false,
    "pycharm": {
     "name": "#%% md\n"
    }
   }
  },
  {
   "cell_type": "code",
   "execution_count": 6,
   "outputs": [
    {
     "name": "stdout",
     "output_type": "stream",
     "text": [
      "Generation: 0\n",
      "Average Fitness: 0.05409662254292298\n",
      "Best Chromosomes: [0, 1, 1, 1, 0, 1, 1, 0, 1]\n",
      "Best Root: 0.9\n",
      "Fitness: 0.0002463426273775402\n",
      "----------------\n",
      "Generation: 1\n",
      "Average Fitness: 0.4094524714471258\n",
      "Best Chromosomes: [0, 0, 1, 0, 0, 1, 1, 1, 1]\n",
      "Best Root: 7.0\n",
      "Fitness: 0.0008727983661214685\n",
      "----------------\n",
      "Generation: 2\n",
      "Average Fitness: 0.4426251814892512\n",
      "Best Chromosomes: [0, 0, 1, 1, 0, 1, 1, 0, 1]\n",
      "Best Root: 4.9\n",
      "Fitness: 0.9780525018472449\n",
      "----------------\n",
      "Generation: 3\n",
      "Average Fitness: 0.4633273728929855\n",
      "Best Chromosomes: [0, 0, 1, 1, 0, 1, 1, 1, 1]\n",
      "Best Root: 4.0\n",
      "Fitness: 0.8064516129069168\n",
      "----------------\n",
      "Generation: 4\n",
      "Average Fitness: 0.44826113800852385\n",
      "Best Chromosomes: [0, 0, 1, 1, 0, 1, 1, 0, 1]\n",
      "Best Root: 4.9\n",
      "Fitness: 0.9780525018472449\n",
      "----------------\n",
      "Generation: 5\n",
      "Average Fitness: 0.4601089294715804\n",
      "Best Chromosomes: [0, 0, 1, 0, 0, 1, 1, 0, 1]\n",
      "Best Root: 7.9\n",
      "Fitness: 0.00019843760784463724\n",
      "----------------\n",
      "Generation: 6\n",
      "Average Fitness: 0.4835999318742338\n",
      "Best Chromosomes: [0, 0, 1, 0, 0, 1, 1, 0, 1]\n",
      "Best Root: 7.9\n",
      "Fitness: 0.00019843760784463724\n",
      "----------------\n",
      "Generation: 7\n",
      "Average Fitness: 0.5094264326233165\n",
      "Best Chromosomes: [1, 0, 1, 0, 0, 1, 1, 0, 1]\n",
      "Best Root: -7.9\n",
      "Fitness: 4.0808641309364305e-07\n",
      "----------------\n",
      "Generation: 8\n",
      "Average Fitness: 0.5626375002484899\n",
      "Best Chromosomes: [0, 0, 1, 1, 0, 1, 1, 0, 1]\n",
      "Best Root: 4.9\n",
      "Fitness: 0.9780525018472449\n",
      "----------------\n",
      "Generation: 9\n",
      "Average Fitness: 0.5741368434781322\n",
      "Best Chromosomes: [0, 0, 1, 1, 0, 1, 1, 0, 1]\n",
      "Best Root: 4.9\n",
      "Fitness: 0.9780525018472449\n",
      "----------------\n",
      "Generation: 10\n",
      "Average Fitness: 0.6342709642948935\n",
      "Best Chromosomes: [0, 0, 1, 1, 0, 1, 1, 0, 1]\n",
      "Best Root: 4.9\n",
      "Fitness: 0.9780525018472449\n",
      "----------------\n"
     ]
    }
   ],
   "source": [
    "bests, avg_fitness = model.run()\n",
    "bests_fitness = numpy.array([model.fitness(e) for e in bests])"
   ],
   "metadata": {
    "collapsed": false,
    "pycharm": {
     "name": "#%%\n"
    }
   }
  },
  {
   "cell_type": "markdown",
   "source": [
    "## Results"
   ],
   "metadata": {
    "collapsed": false,
    "pycharm": {
     "name": "#%% md\n"
    }
   }
  },
  {
   "cell_type": "code",
   "execution_count": 7,
   "outputs": [
    {
     "data": {
      "text/plain": "Text(0.5, 23.52222222222222, 'Generation')"
     },
     "execution_count": 7,
     "metadata": {},
     "output_type": "execute_result"
    },
    {
     "data": {
      "text/plain": "<Figure size 640x480 with 2 Axes>",
      "image/png": "[encoded data removed]"
     },
     "metadata": {},
     "output_type": "display_data"
    }
   ],
   "source": [
    "fig, (ax1, ax2) = plt.subplots(1, 2)\n",
    "fig.tight_layout(w_pad=5)\n",
    "\n",
    "ax1.plot(avg_fitness)\n",
    "ax1.set_ylabel('Average Fitness')\n",
    "ax1.set_xlabel('Generation')\n",
    "\n",
    "ax2.plot(bests_fitness)\n",
    "ax2.set_ylabel('Best Fitness')\n",
    "ax2.set_xlabel('Generation')"
   ],
   "metadata": {
    "collapsed": false,
    "pycharm": {
     "name": "#%%\n"
    }
   }
  }
 ],
 "metadata": {
  "kernelspec": {
   "display_name": "Python 3",
   "language": "python",
   "name": "python3"
  },
  "language_info": {
   "codemirror_mode": {
    "name": "ipython",
    "version": 2
   },
   "file_extension": ".py",
   "mimetype": "text/x-python",
   "name": "python",
   "nbconvert_exporter": "python",
   "pygments_lexer": "ipython2",
   "version": "2.7.6"
  }
 },
 "nbformat": 4,
 "nbformat_minor": 0
}